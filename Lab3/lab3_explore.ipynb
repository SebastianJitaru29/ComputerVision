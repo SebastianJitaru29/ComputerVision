{
 "cells": [
  {
   "cell_type": "markdown",
   "metadata": {},
   "source": [
    " # Lab 3 - 2D → 3D inference "
   ]
  },
  {
   "cell_type": "code",
   "execution_count": 1,
   "metadata": {
    "ExecuteTime": {
     "end_time": "2020-03-04T13:08:50.433281Z",
     "start_time": "2020-03-04T13:08:50.423253Z"
    }
   },
   "outputs": [],
   "source": [
    "import numpy as np\n",
    "import matplotlib.pyplot as plt\n",
    "from PIL import Image\n",
    "from itertools import combinations\n",
    "import os"
   ]
  },
  {
   "cell_type": "code",
   "execution_count": 2,
   "metadata": {},
   "outputs": [],
   "source": [
    "\n",
    "%matplotlib qt"
   ]
  },
  {
   "cell_type": "code",
   "execution_count": 3,
   "metadata": {
    "ExecuteTime": {
     "end_time": "2020-03-04T13:08:50.563187Z",
     "start_time": "2020-03-04T13:08:50.548535Z"
    }
   },
   "outputs": [
    {
     "name": "stdout",
     "output_type": "stream",
     "text": [
      "{'Filename': 'inference/images/rectangle.tif', 'Image Size': (640, 480), 'Image Mode': 'P', 'Image Format': 'TIFF', 'Image width': 640, 'Image height': 480, 'Image is animated': False, 'Frames in image': 1}\n"
     ]
    }
   ],
   "source": [
    "#Read the image\n",
    "os.getcwd()\n",
    "img = Image.open('inference/images/rectangle.tif')\n",
    "\n",
    "info_dict = {\n",
    "    \"Filename\": img.filename,\n",
    "    \"Image Size\": img.size,\n",
    "    \"Image Mode\": img.mode,\n",
    "    \"Image Format\": img.format,\n",
    "    \"Image width\": img.width,\n",
    "    \"Image height\": img.height,\n",
    "    \"Image is animated\": getattr(img, 'is_animated'),\n",
    "    \"Frames in image\": getattr(img, 'n_frames')\n",
    "}\n",
    "print(info_dict)"
   ]
  },
  {
   "cell_type": "markdown",
   "metadata": {},
   "source": [
    "## Select 2 sets of parallel lines\n",
    "To select 2 sets of parallel lines, execute the cell and click twice on the figure to create a line between two points. You can do this as many times for the first set of parallel lines you want to include. \n",
    "\n",
    "Once you are done with the first set, click once on the right mouse button to start selecting the lines for the second set. \n",
    "\n",
    "The two set of parallel lines should appear in red and blue. If you want to start again you can re-execute the cell. \n",
    "\n",
    "Once you are done, just go to thhe next cell (without reexecuting the current one)"
   ]
  },
  {
   "cell_type": "code",
   "execution_count": 37,
   "metadata": {
    "ExecuteTime": {
     "end_time": "2020-03-04T13:08:50.916545Z",
     "start_time": "2020-03-04T13:08:50.852118Z"
    }
   },
   "outputs": [],
   "source": [
    "x, y = [], [] # lists of the ends points of the first set of lines are stored\n",
    "x2, y2 = [], [] # lists  of the ends points of the second set of lines\n",
    "fig = plt.figure()\n",
    "ax = fig.add_subplot(111)\n",
    "ax.imshow(img.rotate(180), origin='lower', cmap='gray') # set the axis-origin to lower for better understandability (and rotate image)\n",
    "first_set = True\n",
    "\n",
    "def onclick(event):\n",
    "    global first_set\n",
    "    if event.button == 3: # right click\n",
    "        first_set = False\n",
    "    \n",
    "    if event.button == 1: # mouse click for first set\n",
    "        if first_set:\n",
    "            x.append(float(event.xdata)) # store x and y for the clicked point\n",
    "            y.append(float(event.ydata))\n",
    "        else:\n",
    "            x2.append(float(event.xdata))\n",
    "            y2.append(float(event.ydata))\n",
    "    for i in range(0, len(x), 2): # plot lines between points pairs\n",
    "        ax.plot(x[i:i+2], y[i:i+2], 'ro-')\n",
    "    for i in range(0, len(x2), 2): # plot lines between points pairs\n",
    "        ax.plot(x2[i:i+2], y2[i:i+2], 'bo-')\n",
    "    fig.canvas.draw()\n",
    "    \n",
    "cid = fig.canvas.mpl_connect('button_press_event', onclick)\n",
    "plt.show()"
   ]
  },
  {
   "cell_type": "markdown",
   "metadata": {},
   "source": [
    "## Calculate focal length f, the direction vectors w1 and w2, and the normal of the planar patch containing the rectangles"
   ]
  },
  {
   "cell_type": "markdown",
   "metadata": {},
   "source": [
    "### You now have the x and y coordinates of the endpoints of the set of parallel lines you picked previously. You need the coordinates of the vanishing points for both directions."
   ]
  },
  {
   "cell_type": "code",
   "execution_count": 46,
   "metadata": {
    "ExecuteTime": {
     "end_time": "2020-03-04T13:08:51.162956Z",
     "start_time": "2020-03-04T13:08:51.158142Z"
    }
   },
   "outputs": [
    {
     "name": "stdout",
     "output_type": "stream",
     "text": [
      "Obtained values: [334.66842532467535, 509.9880275974027, 350.95292207792215, 566.6235795454547] [123.30884740259742, 244.28591720779227, 87.68587662337663, 242.52049512987017]\n",
      "Obtained values2: [98.95413961038963, 321.0827922077923, 458.3088474025975, 239.24431818181822] [258.50568181818187, 155.33502435064938, 245.91943993506496, 332.5316558441559]\n",
      "Point1 of line 1 334.66842532467535 123.30884740259742\n",
      "Point2 of line 2 509.9880275974027 244.28591720779227\n",
      "Point1 of line 3 350.95292207792215 87.68587662337663\n",
      "Point2 of line 4 566.6235795454547 242.52049512987017\n",
      "Point1 of line 5 98.95413961038963 258.50568181818187\n",
      "Point2 of line 6 321.0827922077923 155.33502435064938\n",
      "Point1 of line 7 458.3088474025975 245.91943993506496\n",
      "Point2 of line 8 239.24431818181822 332.5316558441559\n"
     ]
    }
   ],
   "source": [
    "# Coordinate of the vanishing points (find the intersection between the two set of lines). \n",
    "# You can use np.polyfit(x,y,1) which gives you the linear equation y = Ax + B that fit best a set of points\n",
    "# and find y1 and y2 for the two set of lines\n",
    "print(\"Obtained values:\",x, y)\n",
    "print(\"Obtained values2:\",x2, y2)\n",
    "print(\"Point1 of line 1\", x[0], y[0])\n",
    "print(\"Point2 of line 2\", x[1], y[1])\n",
    "print(\"Point1 of line 3\", x[2], y[2])\n",
    "print(\"Point2 of line 4\", x[3], y[3])\n",
    "print(\"Point1 of line 5\", x2[0], y2[0])\n",
    "print(\"Point2 of line 6\", x2[1], y2[1])\n",
    "print(\"Point1 of line 7\", x2[2], y2[2])\n",
    "print(\"Point2 of line 8\", x2[3], y2[3])\n"
   ]
  },
  {
   "cell_type": "code",
   "execution_count": 52,
   "metadata": {
    "ExecuteTime": {
     "end_time": "2020-03-04T13:08:51.527915Z",
     "start_time": "2020-03-04T13:08:51.522487Z"
    }
   },
   "outputs": [
    {
     "name": "stdout",
     "output_type": "stream",
     "text": [
      "Vanishing point for set 1: (2031.4672735394222, 1294.1633898771217)\n",
      "Vanishing point for set 2: (-1775.2979960495604, 1129.027439524215)\n"
     ]
    }
   ],
   "source": [
    "A1 = x.copy()  # first set x-values\n",
    "B1 = y.copy()  # first set y-values\n",
    "\n",
    "A2 = x2.copy() # second set x-values\n",
    "B2 = y2.copy() # second set y-values\n",
    "\n",
    "# --- Unpack points for set 1 (first 2 points for line 1, next 2 for line 2) ---\n",
    "x1_1, y1_1 = A1[0], B1[0]\n",
    "x1_2, y1_2 = A1[1], B1[1]\n",
    "x1_3, y1_3 = A1[2], B1[2]\n",
    "x1_4, y1_4 = A1[3], B1[3]\n",
    "\n",
    "# --- Unpack points for set 2 ---\n",
    "x2_1, y2_1 = A2[0], B2[0]\n",
    "x2_2, y2_2 = A2[1], B2[1]\n",
    "x2_3, y2_3 = A2[2], B2[2]\n",
    "x2_4, y2_4 = A2[3], B2[3]\n",
    "\n",
    "# --- Fit each line using np.polyfit ---\n",
    "# Set 1:\n",
    "m1, b1 = np.polyfit([x1_1, x1_2], [y1_1, y1_2], 1)  # Best-fit for line 1 (set 1)\n",
    "m2, b2 = np.polyfit([x1_3, x1_4], [y1_3, y1_4], 1)  # Best-fit for line 2 (set 1)\n",
    "\n",
    "# Set 2:\n",
    "m3, b3 = np.polyfit([x2_1, x2_2], [y2_1, y2_2], 1)  # Best-fit for line 1 (set 2)\n",
    "m4, b4 = np.polyfit([x2_3, x2_4], [y2_3, y2_4], 1)  # Best-fit for line 2 (set 2)\n",
    "\n",
    "# --- Find intersection (vanishing point) for each set ---\n",
    "# For set 1:\n",
    "x_int1 = (b2 - b1) / (m1 - m2)\n",
    "y_int1 = m1 * x_int1 + b1\n",
    "vanish_set1 = (float(x_int1), float(y_int1))\n",
    "print(\"Vanishing point for set 1:\", vanish_set1)\n",
    "\n",
    "# For set 2:\n",
    "x_int2 = (b4 - b3) / (m3 - m4)\n",
    "y_int2 = m3 * x_int2 + b3\n",
    "vanish_set2 = (float(x_int2), float(y_int2))\n",
    "print(\"Vanishing point for set 2:\", vanish_set2)\n",
    "\n",
    "# --- Plot the original image and overlay the extended lines ---\n",
    "fig, ax = plt.subplots(figsize=(8, 8))\n",
    "# Display the original image (rotated if needed)\n",
    "ax.imshow(img.rotate(180), origin='lower', cmap='gray')\n",
    "\n",
    "# For set 1: plot both lines as solid red lines extended to the vanishing point\n",
    "ax.plot([x1_1, x1_2, x_int1], [y1_1, y1_2, y_int1], 'ro-', label='Set 1: Line 1')\n",
    "ax.plot([x1_3, x1_4, x_int1], [y1_3, y1_4, y_int1], 'ro-', label='Set 1: Line 2')\n",
    "\n",
    "# For set 2: plot both lines as solid blue lines extended to the vanishing point\n",
    "ax.plot([x2_1, x2_2, x_int2], [y2_1, y2_2, y_int2], 'bo-', label='Set 2: Line 1')\n",
    "ax.plot([x2_3, x2_4, x_int2], [y2_3, y2_4, y_int2], 'bo-', label='Set 2: Line 2')\n",
    "\n",
    "# Mark the vanishing points with black circles\n",
    "ax.plot(x_int1, y_int1, 'ko', markersize=8, label='Vanishing Pt Set 1')\n",
    "ax.plot(x_int2, y_int2, 'ko', markersize=8, label='Vanishing Pt Set 2')\n",
    "\n",
    "ax.set_xlabel('x')\n",
    "ax.set_ylabel('y')\n",
    "ax.set_title('Extended Lines on Original Image')\n",
    "ax.legend()\n",
    "plt.show()\n"
   ]
  },
  {
   "cell_type": "code",
   "execution_count": null,
   "metadata": {},
   "outputs": [
    {
     "name": "stdout",
     "output_type": "stream",
     "text": [
      "Principal point: ( 320.0 , 240.0 )\n",
      "Focal length f: 1627.5299595426598\n",
      "Direction vector for set 1 (w1): [0.66172934 0.40758643 0.62927544]\n",
      "Direction vector for set 2 (w2): [-0.74882246  0.31772269  0.58165043]\n",
      "Normal vector of the plane: [ 0.03713774 -0.85611074  0.5154563 ]\n"
     ]
    }
   ],
   "source": [
    "u1 = x_int1\n",
    "v1 = y_int1\n",
    "u2 = x_int2\n",
    "v2 = y_int2\n",
    "# Assume the principal point is the center of the image.\n",
    "# For example, if the image size is (width, height) from your info_dict:\n",
    "u0 = img.width / 2.0\n",
    "v0 = img.height / 2.0\n",
    "\n",
    "print(\"Principal point: (\", u0, \",\", v0, \")\")\n",
    "\n",
    "# --- Compute focal length ---\n",
    "term = (u1 - u0) * (u2 - u0) + (v1 - v0) * (v2 - v0)\n",
    "f_squared = -term\n",
    "if f_squared <= 0:\n",
    "    raise ValueError(\"Computed f^2 is non-positive.\")\n",
    "f = np.sqrt(f_squared)\n",
    "print(\"Focal length f:\", f)\n",
    "\n",
    "# --- Compute direction vectors ---\n",
    "def compute_direction(u, v, u0, v0, f):\n",
    "    vec = np.array([u - u0, v - v0, f], dtype=float)\n",
    "    return vec / np.linalg.norm(vec)\n",
    "\n",
    "w1 = compute_direction(u1, v1, u0, v0, f)\n",
    "w2 = compute_direction(u2, v2, u0, v0, f)\n",
    "print(\"Direction vector for set 1 (w1):\", w1)\n",
    "print(\"Direction vector for set 2 (w2):\", w2)\n",
    "\n",
    "# --- Compute the normal vector of the plane ---\n",
    "normal = np.cross(w1, w2)\n",
    "normal = normal / np.linalg.norm(normal)\n",
    "print(\"Normal vector of the plane:\", normal)"
   ]
  },
  {
   "cell_type": "code",
   "execution_count": 59,
   "metadata": {},
   "outputs": [
    {
     "name": "stdout",
     "output_type": "stream",
     "text": [
      "||w1|| = 1.0\n",
      "||w2|| = 0.9999999999999999\n",
      "||normal|| = 1.0\n",
      "w1 dot w2 = 6.025064267227851e-17\n",
      "normal dot w1 = 1.766058952834781e-17\n",
      "normal dot w2 = -4.8362889280133765e-18\n"
     ]
    }
   ],
   "source": [
    "print(\"||w1|| =\", np.linalg.norm(w1))\n",
    "print(\"||w2|| =\", np.linalg.norm(w2))\n",
    "print(\"||normal|| =\", np.linalg.norm(normal))\n",
    "\n",
    "print(\"w1 dot w2 =\", np.dot(w1, w2))\n",
    "print(\"normal dot w1 =\", np.dot(normal, w1))\n",
    "print(\"normal dot w2 =\", np.dot(normal, w2))\n",
    "\n"
   ]
  },
  {
   "cell_type": "code",
   "execution_count": 15,
   "metadata": {
    "ExecuteTime": {
     "end_time": "2020-03-04T13:08:51.811328Z",
     "start_time": "2020-03-04T13:08:51.787150Z"
    }
   },
   "outputs": [],
   "source": [
    "# The original parline function [TO BE MODIFIED !!!]\n",
    "# I guess rewriting is having a look anyway\n",
    "def parlines(lines):\n",
    "    n = 3 # get 3 dimensions\n",
    "    f = 1.0 # temporary value\n",
    "    \n",
    "    a = np.zeros((lines.shape[0], n)) \n",
    "    a[:,0] = lines[:,3] - lines[:,1]\n",
    "    a[:,1] = -1*(lines[:,2] - lines[:,0])\n",
    "    a[:,2] = np.multiply(lines[:,1], -1*a[:,1]) - np.multiply(lines[:,0],a[:,0])\n",
    "    \n",
    "    u, s, v = np.linalg.svd(a) \n",
    "    \n",
    "    if (v[2] < 0).all(): # s and v are already sorted from largest to smallest\n",
    "        v_min = np.abs(v[2])\n",
    "    else:\n",
    "        v_min = v[2]\n",
    "        \n",
    "    wvec = v_min.T\n",
    "    wvec[0:2] /= f\n",
    "    wvec /= np.linalg.norm(wvec)\n",
    "\n",
    "    return wvec"
   ]
  },
  {
   "cell_type": "code",
   "execution_count": null,
   "metadata": {
    "ExecuteTime": {
     "end_time": "2020-03-04T13:08:52.449696Z",
     "start_time": "2020-03-04T13:08:52.440245Z"
    }
   },
   "outputs": [],
   "source": [
    "#  Rewritting the x and y coordinates to be read by the parlines function\n",
    "lines = np.array([x, y]).T.reshape((len(x) // 2, 4)) # reshape to ((x,y), (x,y)) per line\n",
    "lines2 = np.array([x2, y2]).T.reshape((len(x2) //2 , 4))"
   ]
  },
  {
   "cell_type": "code",
   "execution_count": null,
   "metadata": {
    "ExecuteTime": {
     "end_time": "2020-03-04T13:08:52.731167Z",
     "start_time": "2020-03-04T13:08:52.726121Z"
    }
   },
   "outputs": [],
   "source": [
    "# Calculate w1, w2"
   ]
  },
  {
   "cell_type": "code",
   "execution_count": null,
   "metadata": {
    "ExecuteTime": {
     "end_time": "2020-03-04T13:08:46.603957Z",
     "start_time": "2020-03-04T13:08:46.599636Z"
    }
   },
   "outputs": [],
   "source": [
    "# Calculate the normal plane"
   ]
  },
  {
   "cell_type": "code",
   "execution_count": null,
   "metadata": {},
   "outputs": [],
   "source": []
  }
 ],
 "metadata": {
  "kernelspec": {
   "display_name": "lab3",
   "language": "python",
   "name": "python3"
  },
  "language_info": {
   "codemirror_mode": {
    "name": "ipython",
    "version": 3
   },
   "file_extension": ".py",
   "mimetype": "text/x-python",
   "name": "python",
   "nbconvert_exporter": "python",
   "pygments_lexer": "ipython3",
   "version": "3.11.2"
  }
 },
 "nbformat": 4,
 "nbformat_minor": 2
}
